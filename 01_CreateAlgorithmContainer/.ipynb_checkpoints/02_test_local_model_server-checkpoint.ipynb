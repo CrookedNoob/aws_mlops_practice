{
 "cells": [
  {
   "cell_type": "markdown",
   "id": "6c2949ae",
   "metadata": {},
   "source": [
    "## First, let's test the ping method (GET /ping)\n",
    "This method will be used by Sagemaker for health check our model. It must return a code 200."
   ]
  },
  {
   "cell_type": "code",
   "execution_count": 1,
   "id": "758dffc5",
   "metadata": {},
   "outputs": [],
   "source": [
    "import json\n",
    "from urllib import request\n",
    "\n",
    "base_url = \"http://localhost:8080\""
   ]
  },
  {
   "cell_type": "code",
   "execution_count": 2,
   "id": "9e5b3227",
   "metadata": {},
   "outputs": [
    {
     "name": "stdout",
     "output_type": "stream",
     "text": [
      "Response Code: 200\n"
     ]
    }
   ],
   "source": [
    "resp = request.urlopen(\"%s/ping\" % base_url)\n",
    "print(\"Response Code: %d\" % resp.getcode())"
   ]
  },
  {
   "cell_type": "markdown",
   "id": "86744e5e",
   "metadata": {},
   "source": [
    "## Then we can the predictions (POST /invocations)\n",
    "This method will be used by Sagemaker for the predictions. Here we're simulating the header parameter related to the CustomAttributes"
   ]
  },
  {
   "cell_type": "code",
   "execution_count": null,
   "id": "5c7c5471",
   "metadata": {},
   "outputs": [],
   "source": [
    "%% time\n",
    "from sagemaker.serializers import CSVSerializer\n",
    "csv_serializer = CSVSerializer()\n",
    "payloads = [\n",
    "    [4.5, 3.1, 1.5, 0.2],\n",
    "    [7.7, 2.4, 5.7, 2.2],\n",
    "    [5.1, 2.7, 4.7, 1.2]\n",
    "]\n",
    "\n",
    "def predict(payload):\n",
    "    headers= {\n",
    "        'Content-type': 'text/csv'\n",
    "        'Accept': 'text/csv'\n",
    "    }\n",
    "    \n",
    "    req = request.Request(\"%s/invocations\" % base_url, \n",
    "                          data=csv.serializer.serialize(payload).encode('utf-8'), \n",
    "                          headers=headers)\n",
    "    resp = request.urlopen(req)\n",
    "    print(\"Response code: %d, Prediction: %s\\n\" % (resp.getcode(), resp.read()))\n",
    "    for i in resp.headers:\n",
    "        print(i, resp.headers[i])\n",
    "        \n",
    "for p in payloads:\n",
    "    predict(p)"
   ]
  }
 ],
 "metadata": {
  "kernelspec": {
   "display_name": "conda_python3",
   "language": "python",
   "name": "conda_python3"
  },
  "language_info": {
   "codemirror_mode": {
    "name": "ipython",
    "version": 3
   },
   "file_extension": ".py",
   "mimetype": "text/x-python",
   "name": "python",
   "nbconvert_exporter": "python",
   "pygments_lexer": "ipython3",
   "version": "3.8.12"
  }
 },
 "nbformat": 4,
 "nbformat_minor": 5
}
