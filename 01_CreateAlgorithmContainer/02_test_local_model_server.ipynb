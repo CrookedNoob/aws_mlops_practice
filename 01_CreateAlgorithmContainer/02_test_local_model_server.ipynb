{
 "cells": [
  {
   "cell_type": "markdown",
   "id": "2bb2e208",
   "metadata": {},
   "source": [
    "## First, let's test the ping method (GET /ping)\n",
    "This method will be used by Sagemaker for health check our model. It must return a code 200."
   ]
  },
  {
   "cell_type": "code",
   "execution_count": 8,
   "id": "037a016d",
   "metadata": {},
   "outputs": [],
   "source": [
    "import json\n",
    "from urllib import request\n",
    "\n",
    "base_url = \"http://localhost:8080\""
   ]
  },
  {
   "cell_type": "code",
   "execution_count": 9,
   "id": "b9496ae9",
   "metadata": {},
   "outputs": [
    {
     "name": "stdout",
     "output_type": "stream",
     "text": [
      "Response Code: 200\n"
     ]
    }
   ],
   "source": [
    "resp = request.urlopen(\"%s/ping\" % base_url)\n",
    "print(\"Response Code: %d\" % resp.getcode())"
   ]
  },
  {
   "cell_type": "markdown",
   "id": "2a3d74e1",
   "metadata": {},
   "source": [
    "## Then we can the predictions (POST /invocations)\n",
    "This method will be used by Sagemaker for the predictions. Here we're simulating the header parameter related to the CustomAttributes"
   ]
  },
  {
   "cell_type": "code",
   "execution_count": 12,
   "id": "23556808",
   "metadata": {},
   "outputs": [
    {
     "name": "stdout",
     "output_type": "stream",
     "text": [
      "Response code: 200, Prediction: b'0.0\\n'\n",
      "\n",
      "content-type text/csv\n",
      "x-request-id 5a049474-2fa8-4eac-9f73-fe9a5d7e1cdd\n",
      "Pragma no-cache\n",
      "Cache-Control no-cache; no-store, must-revalidate, private\n",
      "Expires Thu, 01 Jan 1970 00:00:00 UTC\n",
      "content-length 4\n",
      "connection keep-alive\n",
      "Response code: 200, Prediction: b'2.0\\n'\n",
      "\n",
      "content-type text/csv\n",
      "x-request-id 0137a214-3cc0-49f1-be9b-1c5f83e41819\n",
      "Pragma no-cache\n",
      "Cache-Control no-cache; no-store, must-revalidate, private\n",
      "Expires Thu, 01 Jan 1970 00:00:00 UTC\n",
      "content-length 4\n",
      "connection keep-alive\n",
      "Response code: 200, Prediction: b'1.0\\n'\n",
      "\n",
      "content-type text/csv\n",
      "x-request-id b47e1b53-458a-4113-9be2-c442e06c6dfe\n",
      "Pragma no-cache\n",
      "Cache-Control no-cache; no-store, must-revalidate, private\n",
      "Expires Thu, 01 Jan 1970 00:00:00 UTC\n",
      "content-length 4\n",
      "connection keep-alive\n",
      "CPU times: user 9.74 ms, sys: 0 ns, total: 9.74 ms\n",
      "Wall time: 617 ms\n"
     ]
    }
   ],
   "source": [
    "%%time\n",
    "from sagemaker.serializers import CSVSerializer\n",
    "csv_serializer = CSVSerializer()\n",
    "payloads = [\n",
    "    [4.6, 3.1, 1.5, 0.2], \n",
    "    [7.7, 2.6, 6.9, 2.3], \n",
    "    [6.1, 2.8, 4.7, 1.2]  \n",
    "]\n",
    "\n",
    "def predict(payload):\n",
    "    headers = {\n",
    "        'Content-type': 'text/csv',\n",
    "        'Accept': 'text/csv'\n",
    "    }\n",
    "    \n",
    "    req = request.Request(\"%s/invocations\" % base_url, data=csv_serializer.serialize(payload).encode('utf-8'), headers=headers)\n",
    "    resp = request.urlopen(req)\n",
    "    print(\"Response code: %d, Prediction: %s\\n\" % (resp.getcode(), resp.read()))\n",
    "    for i in resp.headers:\n",
    "        print(i, resp.headers[i])\n",
    "\n",
    "for p in payloads:\n",
    "    predict(p)"
   ]
  },
  {
   "cell_type": "code",
   "execution_count": null,
   "id": "c46fae6b",
   "metadata": {},
   "outputs": [],
   "source": []
  }
 ],
 "metadata": {
  "kernelspec": {
   "display_name": "conda_python3",
   "language": "python",
   "name": "conda_python3"
  },
  "language_info": {
   "codemirror_mode": {
    "name": "ipython",
    "version": 3
   },
   "file_extension": ".py",
   "mimetype": "text/x-python",
   "name": "python",
   "nbconvert_exporter": "python",
   "pygments_lexer": "ipython3",
   "version": "3.8.12"
  }
 },
 "nbformat": 4,
 "nbformat_minor": 5
}
